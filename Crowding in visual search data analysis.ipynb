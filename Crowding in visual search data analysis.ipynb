{
 "cells": [
  {
   "cell_type": "code",
   "execution_count": 1,
   "metadata": {},
   "outputs": [],
   "source": [
    "import sys, os\n",
    "#os.chdir('C:\\\\Users\\\\Steffi\\\\Desktop\\\\PSR\\\\Analysis')\n",
    "sys.path.append(os.getcwd()+'/PyGazeAnalyser/')\n",
    "import pygazeanalyser\n",
    "from pygazeanalyser.edfreader import read_edf\n",
    "# append Pygaz analyser folder, cloned from https://github.com/esdalmaijer/PyGazeAnalyser.git\n",
    "\n",
    "import numpy as np\n",
    "import pandas as pd\n",
    "import glob\n",
    "import matplotlib.pyplot as plt\n",
    "from matplotlib.axes import Axes\n",
    "%matplotlib inline\n",
    "\n",
    "from statistics import mean\n",
    "from scipy import stats\n",
    "from scipy.stats import pearsonr, spearmanr, kstest, wilcoxon"
   ]
  },
  {
   "cell_type": "markdown",
   "metadata": {},
   "source": [
    "Exclusion: sub that has 38% missed trials in crowding (13), and subs with chance level accuracy in crowding (3,10,14), sub with <85% accuracy in visual search task (8), and crit spacing of 0.8 (7), misunderstood task (6) and fell asleep (15)"
   ]
  },
  {
   "cell_type": "code",
   "execution_count": 2,
   "metadata": {},
   "outputs": [],
   "source": [
    "subjects = ['01','02','04','05','09','11','12','16','17','18']"
   ]
  },
  {
   "cell_type": "markdown",
   "metadata": {},
   "source": [
    "## 1) Crowding Task"
   ]
  },
  {
   "cell_type": "code",
   "execution_count": 3,
   "metadata": {},
   "outputs": [],
   "source": [
    "# Params\n",
    "total_trials = 720\n",
    "blocks = 5 #including one practice block\n",
    "trials_block = total_trials/blocks\n",
    "trials = total_trials - trials_block #number of trials excluding training\n",
    "ecc = [4,8,12]\n",
    "last_trials = 96 #number of trials to calculate critical distance"
   ]
  },
  {
   "cell_type": "code",
   "execution_count": 4,
   "metadata": {},
   "outputs": [],
   "source": [
    "crowding_files = []\n",
    "for sub in range(len(subjects)):\n",
    "    #filename = os.path.join(os.getcwd(),'Data/output_crowding/data_crowding_pp_%s.csv' %(subjects[sub]))\n",
    "    filename = 'C:\\\\Users\\\\Steffi\\\\Desktop\\\\PSR\\\\Data\\\\output_crowding\\\\data_crowding_pp_%s.csv' %(subjects[sub])\n",
    "    crowding_files.append(filename)"
   ]
  },
  {
   "cell_type": "markdown",
   "metadata": {},
   "source": [
    "**Missed trials**"
   ]
  },
  {
   "cell_type": "code",
   "execution_count": 5,
   "metadata": {},
   "outputs": [],
   "source": [
    "missed_trials = np.zeros(len(subjects))\n",
    "\n",
    "for sub in range(len(subjects)):\n",
    "    \n",
    "    data_sub = pd.read_csv(crowding_files[sub], sep='\\t')\n",
    "    data_sub = data_sub.loc[(trials_block):(total_trials-1)]\n",
    "    miss = []\n",
    "    miss = data_sub['key_pressed'].isna().sum() #easier way to count NaNs in dataframe\n",
    "            \n",
    "    missed_trials[sub] = miss/len(data_sub)#len(miss)/len(data_sub)"
   ]
  },
  {
   "cell_type": "code",
   "execution_count": 6,
   "metadata": {},
   "outputs": [
    {
     "name": "stdout",
     "output_type": "stream",
     "text": [
      "[0.07118056 0.02083333 0.04513889 0.00173611 0.04861111 0.03472222\n",
      " 0.13888889 0.01388889 0.00173611 0.02256944]\n"
     ]
    }
   ],
   "source": [
    "#Percentage of missed trials per participant\n",
    "print(missed_trials)"
   ]
  },
  {
   "cell_type": "markdown",
   "metadata": {},
   "source": [
    "**Accuracy Flankers vs. no Flankers**"
   ]
  },
  {
   "cell_type": "code",
   "execution_count": 10,
   "metadata": {},
   "outputs": [],
   "source": [
    "for sub in range(len(subjects)):\n",
    "    \n",
    "    flank_ecc = np.zeros((len(ecc))) # (3,1) count num trials with flankers per ecc\n",
    "    flank_corrTrial = np.zeros((len(ecc))) # (3,1) count num trials with flankers and correct response per ecc\n",
    "    noflank_ecc = np.zeros((len(ecc))) # (3,1) count num trials without flankers per ecc\n",
    "    noflank_corrTrial = np.zeros((len(ecc))) # (3,1) count num trials without flankers and correct response per ecc\n",
    "   \n",
    "    data_sub = pd.read_csv(crowding_files[sub], sep='\\t')\n",
    "    data_sub = data_sub.loc[(trials_block):(total_trials-1)]\n",
    "    \n",
    "    for i in range(int(trials_block),int(total_trials)):\n",
    "        \n",
    "        val = data_sub['key_pressed'][i]\n",
    "        if type(val) == float and np.isnan(val): #check is object is float and then if it's NaN = missed trials\n",
    "            continue #print('response is NaN, missed trial %d'%i )\n",
    "        \n",
    "        else:#actual responses to calculate accuracy\n",
    "            ecc_idx = ecc.index(int(data_sub[\"target_ecc\"][i]))\n",
    "            \n",
    "            if data_sub[\"flanker_presence\"][i]==\"flankers\": #flanker trial                \n",
    "                flank_ecc[ecc_idx]+=1\n",
    "                if data_sub['key_pressed'][i]==data_sub['target_orientation'][i]: #count correct responses\n",
    "                    flank_corrTrial[ecc_idx]+=1\n",
    "            else: # no flanker\n",
    "                noflank_ecc[ecc_idx]+=1\n",
    "                if data_sub['key_pressed'][i]==data_sub['target_orientation'][i]: #count correct responses\n",
    "                    noflank_corrTrial[ecc_idx]+=1\n",
    "                           \n",
    "    acc_flank = [flank_corrTrial[x]/flank_ecc[x] for x in range(len(ecc))]\n",
    "    acc_ecc_flank = acc_flank if sub == 0 else np.vstack((acc_ecc_flank,acc_flank))\n",
    "    \n",
    "    acc_noflank = [noflank_corrTrial[x]/noflank_ecc[x] for x in range(len(ecc))]\n",
    "    acc_ecc_noflank = acc_noflank if sub == 0 else np.vstack((acc_ecc_noflank,acc_noflank))"
   ]
  },
  {
   "cell_type": "code",
   "execution_count": 8,
   "metadata": {},
   "outputs": [],
   "source": [
    "#print(\"Accuracy with Flankers:\")\n",
    "#print(acc_ecc_flank)\n",
    "#print(\"Accuracy without Flankers:\")\n",
    "#print(acc_ecc_noflank)"
   ]
  },
  {
   "cell_type": "code",
   "execution_count": 13,
   "metadata": {},
   "outputs": [
    {
     "data": {
      "image/png": "[encoded data removed]",
      "text/plain": [
       "<Figure size 1080x360 with 2 Axes>"
      ]
     },
     "metadata": {
      "needs_background": "light"
     },
     "output_type": "display_data"
    }
   ],
   "source": [
    "plt.figure(figsize=(15,5))\n",
    "plt.subplot(1,2,1)\n",
    "plt.hist(acc_ecc_flank)\n",
    "plt.title('Accuracy with flankers')\n",
    "plt.xlim(0.6,1.0)\n",
    "plt.ylim(0,6.5)\n",
    "plt.legend(['4°','8°','12°'])\n",
    "plt.subplot(1,2,2)\n",
    "plt.hist(acc_ecc_noflank)\n",
    "plt.title('Accuracy without flankers')\n",
    "plt.xlim(0.6,1.0)\n",
    "plt.ylim(0,6.5)\n",
    "plt.savefig('Accuracy flankers noflankers', dpi=300)"
   ]
  },
  {
   "cell_type": "markdown",
   "metadata": {},
   "source": [
    "**Test difference between flankers and no-flankers**"
   ]
  },
  {
   "cell_type": "code",
   "execution_count": 10,
   "metadata": {},
   "outputs": [
    {
     "name": "stdout",
     "output_type": "stream",
     "text": [
      "[0.05886483 0.11965729 0.10973069 0.11345342 0.05474922 0.12034996\n",
      " 0.07556758 0.13885373 0.01981539 0.12331393]\n",
      "0.09343560285325897 0.03669427510815972\n"
     ]
    }
   ],
   "source": [
    "acc_flank_mean=np.mean(acc_ecc_flank, axis=1)\n",
    "acc_noflank_mean = np.mean(acc_ecc_noflank, axis=1)\n",
    "acc_diff = acc_noflank_mean - acc_flank_mean\n",
    "print(acc_diff)\n",
    "print(np.mean(acc_diff), np.std(acc_diff))"
   ]
  },
  {
   "cell_type": "code",
   "execution_count": 11,
   "metadata": {},
   "outputs": [
    {
     "data": {
      "text/plain": [
       "WilcoxonResult(statistic=0.0, pvalue=0.005062032126267864)"
      ]
     },
     "execution_count": 11,
     "metadata": {},
     "output_type": "execute_result"
    }
   ],
   "source": [
    "wilcoxon(acc_flank_mean, acc_noflank_mean)"
   ]
  },
  {
   "cell_type": "markdown",
   "metadata": {},
   "source": [
    "**Calculate critical distance per participant**"
   ]
  },
  {
   "cell_type": "code",
   "execution_count": 5,
   "metadata": {},
   "outputs": [],
   "source": [
    "crit_dis = np.zeros((len(subjects),len(ecc)))\n",
    "\n",
    "for sub in range(len(subjects)): \n",
    "    data_sub = pd.read_csv(crowding_files[sub], sep='\\t')\n",
    "    \n",
    "    for e in range(len(ecc)):\n",
    "        tfr = []\n",
    "        \n",
    "        for i in range((total_trials-last_trials-1),(total_trials-1)):\n",
    "            \n",
    "            if data_sub[\"flanker_presence\"][i]==\"flankers\" and data_sub[\"target_ecc\"][i]==ecc[e]:\n",
    "                tfr.append(data_sub[\"target_flank_ratio\"][i])\n",
    "    \n",
    "        crit_dis[sub,e] = np.median(tfr) #sum(tfr)/len(tfr)\n",
    "\n",
    "crit_dis_mean = np.median(crit_dis,axis=1) #np.mean(crit_dis,axis=1)     "
   ]
  },
  {
   "cell_type": "code",
   "execution_count": 13,
   "metadata": {},
   "outputs": [],
   "source": [
    "#print('Critical distance per participant and eccentricity')\n",
    "#print(crit_dis)\n",
    "#print('Critical distance per participant across eccentricities')\n",
    "#print(crit_dis_mean)"
   ]
  },
  {
   "cell_type": "code",
   "execution_count": 14,
   "metadata": {},
   "outputs": [
    {
     "data": {
      "text/plain": [
       "(0.2, 0.8)"
      ]
     },
     "execution_count": 14,
     "metadata": {},
     "output_type": "execute_result"
    },
    {
     "data": {
      "image/png": "[encoded data removed]",
      "text/plain": [
       "<Figure size 1080x360 with 2 Axes>"
      ]
     },
     "metadata": {
      "needs_background": "light"
     },
     "output_type": "display_data"
    }
   ],
   "source": [
    "plt.figure(figsize=(15,5))\n",
    "plt.subplot(1,2,1)\n",
    "plt.hist(crit_dis)\n",
    "plt.title('Critical distance per eccentricity°')\n",
    "plt.xlim(0.2,0.8)\n",
    "plt.legend(['4°','8°','12°'])\n",
    "\n",
    "plt.subplot(1,2,2)\n",
    "plt.hist(crit_dis_mean)\n",
    "plt.title('Critical distance across eccentricities')\n",
    "plt.xlim(0.2,0.8)"
   ]
  },
  {
   "cell_type": "markdown",
   "metadata": {},
   "source": [
    "**Critical distance as a function of eccentricity**"
   ]
  },
  {
   "cell_type": "code",
   "execution_count": 8,
   "metadata": {},
   "outputs": [
    {
     "data": {
      "image/png": "[encoded data removed]",
      "text/plain": [
       "<Figure size 432x288 with 1 Axes>"
      ]
     },
     "metadata": {
      "needs_background": "light"
     },
     "output_type": "display_data"
    }
   ],
   "source": [
    "x = np.arange(3)\n",
    "crit_dis_slope = np.zeros((len(subjects)))\n",
    "plt.figure()\n",
    "\n",
    "for sub in range(len(subjects)):\n",
    "    regression = stats.linregress(x, crit_dis[sub])\n",
    "    plt.plot([regression[1],regression[1]+regression[0]])\n",
    "    crit_dis_slope[sub] = regression[0]\n",
    "#print(crit_dis_slope)\n",
    "\n",
    "plt.ylabel('Critical spacing')\n",
    "plt.xlabel('Eccentricity')\n",
    "plt.xticks((0,0.5,1),['4°','8°','12°'])\n",
    "plt.title('Critical spacing as a function of eccentricity')\n",
    "plt.savefig('Critical spacing as a function of eccentricity',dpi=300)"
   ]
  },
  {
   "cell_type": "markdown",
   "metadata": {},
   "source": [
    "**Test value distribution**"
   ]
  },
  {
   "cell_type": "code",
   "execution_count": 16,
   "metadata": {},
   "outputs": [
    {
     "name": "stdout",
     "output_type": "stream",
     "text": [
      "KstestResult(statistic=0.6179114221889526, pvalue=0.0003305224256820203)\n"
     ]
    }
   ],
   "source": [
    "#Critical distance mean across eccentricities\n",
    "print(kstest(crit_dis_mean, 'norm'))"
   ]
  },
  {
   "cell_type": "code",
   "execution_count": 17,
   "metadata": {},
   "outputs": [
    {
     "name": "stdout",
     "output_type": "stream",
     "text": [
      "KstestResult(statistic=0.46513704271628464, pvalue=0.016755689090321445)\n"
     ]
    }
   ],
   "source": [
    "#Critical distance slope\n",
    "print(kstest(crit_dis_slope, 'norm'))"
   ]
  },
  {
   "cell_type": "markdown",
   "metadata": {},
   "source": [
    "## 2) Search Task"
   ]
  },
  {
   "cell_type": "code",
   "execution_count": 15,
   "metadata": {},
   "outputs": [],
   "source": [
    "trials = 720\n",
    "blocks = 4 \n",
    "trials_block = total_trials/blocks\n",
    "ecc = [4,8,12]\n",
    "set_size = [5,15,30]"
   ]
  },
  {
   "cell_type": "code",
   "execution_count": 16,
   "metadata": {},
   "outputs": [],
   "source": [
    "search_files = []\n",
    "for sub in range(len(subjects)):\n",
    "    filename = 'C:\\\\Users\\\\Steffi\\\\Desktop\\\\PSR\\\\Data\\\\output_VS\\\\data_visualsearch_pp_%s.csv' %(subjects[sub])\n",
    "    #filename = os.path.join(os.getcwd(),'Data/output_VS/data_visualsearch_pp_%s.csv' %(subjects[sub]))\n",
    "    search_files.append(filename)"
   ]
  },
  {
   "cell_type": "markdown",
   "metadata": {},
   "source": [
    "**Reaction times and accuracy per participant**"
   ]
  },
  {
   "cell_type": "code",
   "execution_count": 17,
   "metadata": {},
   "outputs": [],
   "source": [
    "rt_ecc = np.zeros((len(subjects),len(ecc)))\n",
    "acc_ecc = np.zeros((len(subjects),len(ecc)))\n",
    "rt_ecc_std = np.zeros((len(subjects),len(ecc)))\n",
    "acc_ecc_std = np.zeros((len(subjects),len(ecc)))\n",
    "\n",
    "for sub in range(len(subjects)):\n",
    "    data_sub = pd.read_csv(search_files[sub], sep='\\t')\n",
    "    \n",
    "    for e in range(len(ecc)):\n",
    "        rts = []\n",
    "        acc = []\n",
    "        \n",
    "        for n in range(len(data_sub)):\n",
    "            if data_sub['target_ecc'][n]==ecc[e]:\n",
    "                if data_sub['key_pressed'][n]== data_sub['target_orientation'][n]:\n",
    "                    rts.append(data_sub[\"RT\"][n])\n",
    "                    acc.append(True)\n",
    "                else:\n",
    "                    acc.append(False)\n",
    "        \n",
    "        rt_ecc[sub,e]= np.mean(rts)#np.median(rts)\n",
    "        acc_ecc[sub,e]= np.mean(acc) #np.median(acc)\n",
    "\n",
    "rt_mean = np.mean(rt_ecc,axis=1) #np.median(rt_ecc,axis=1)\n",
    "acc_mean = np.mean(acc_ecc, axis=1) #np.median(acc_ecc, axis=1)"
   ]
  },
  {
   "cell_type": "code",
   "execution_count": 21,
   "metadata": {},
   "outputs": [],
   "source": [
    "#Mean reaction times per participant and eccentricity\n",
    "#print(rt_ecc)"
   ]
  },
  {
   "cell_type": "code",
   "execution_count": 22,
   "metadata": {},
   "outputs": [],
   "source": [
    "#Mean reaction times per participant across eccentricities\n",
    "#print(rt_mean)"
   ]
  },
  {
   "cell_type": "code",
   "execution_count": 23,
   "metadata": {},
   "outputs": [],
   "source": [
    "#Mean accuracy per participant and eccentricity\n",
    "#print(acc_ecc)"
   ]
  },
  {
   "cell_type": "code",
   "execution_count": 24,
   "metadata": {},
   "outputs": [],
   "source": [
    "#Mean accuracy per participant across eccentricities\n",
    "#print(acc_mean)"
   ]
  },
  {
   "cell_type": "code",
   "execution_count": 25,
   "metadata": {},
   "outputs": [
    {
     "data": {
      "text/plain": [
       "<matplotlib.legend.Legend at 0x2c7fb009c88>"
      ]
     },
     "execution_count": 25,
     "metadata": {},
     "output_type": "execute_result"
    },
    {
     "data": {
      "image/png": "[encoded data removed]",
      "text/plain": [
       "<Figure size 1080x360 with 2 Axes>"
      ]
     },
     "metadata": {
      "needs_background": "light"
     },
     "output_type": "display_data"
    }
   ],
   "source": [
    "plt.figure(figsize=(15,5))\n",
    "plt.subplot(1,2,1)\n",
    "plt.hist(rt_ecc)\n",
    "plt.title('Reaction times')\n",
    "plt.legend(['4°','8°','12°'])\n",
    "plt.subplot(1,2,2)\n",
    "plt.hist(acc_ecc)\n",
    "plt.title('Accuracy')\n",
    "plt.legend(['4°','8°','12°'])"
   ]
  },
  {
   "cell_type": "markdown",
   "metadata": {},
   "source": [
    "**Reaction times as a function of eccentricity**"
   ]
  },
  {
   "cell_type": "code",
   "execution_count": 18,
   "metadata": {},
   "outputs": [
    {
     "name": "stdout",
     "output_type": "stream",
     "text": [
      "[0.39066122 0.37377086 0.55958499 0.25583264 0.41278507 0.4828566\n",
      " 0.84455331 0.53224081 0.49892749 0.56005063]\n"
     ]
    },
    {
     "data": {
      "image/png": "[encoded data removed]",
      "text/plain": [
       "<Figure size 432x288 with 1 Axes>"
      ]
     },
     "metadata": {
      "needs_background": "light"
     },
     "output_type": "display_data"
    }
   ],
   "source": [
    "x = np.arange(3)\n",
    "rt_ecc_slope = np.zeros((len(subjects)))\n",
    "plt.figure()\n",
    "\n",
    "for sub in range(len(subjects)):\n",
    "    regression = stats.linregress(x, rt_ecc[sub])\n",
    "    plt.plot([regression[1],regression[1]+regression[0]])\n",
    "    rt_ecc_slope[sub] = regression[0]\n",
    "\n",
    "print(rt_ecc_slope)\n",
    "\n",
    "plt.ylabel('Reaction time')\n",
    "plt.xlabel('Eccentricity')\n",
    "plt.xticks((0,0.5,1),ecc)\n",
    "plt.title('RT as a function of eccentricity')\n",
    "plt.savefig('RT for ecc',dpi=300)"
   ]
  },
  {
   "cell_type": "markdown",
   "metadata": {},
   "source": [
    "**Reaction times as a function of set size**"
   ]
  },
  {
   "cell_type": "code",
   "execution_count": 19,
   "metadata": {},
   "outputs": [],
   "source": [
    "rt_setsize = np.zeros((len(subjects),len(set_size)))\n",
    "\n",
    "for sub in range(len(subjects)):\n",
    "    data_sub = pd.read_csv(search_files[sub], sep='\\t')\n",
    "    \n",
    "    for s in range(len(set_size)):\n",
    "        rts = []\n",
    "        \n",
    "        for n in range(len(data_sub)):\n",
    "            if data_sub['set_size'][n]==set_size[s]:\n",
    "                if data_sub['key_pressed'][n]== data_sub['target_orientation'][n]:\n",
    "                    rts.append(data_sub[\"RT\"][n])\n",
    "        \n",
    "        rt_setsize[sub,s]=np.mean(rts)\n",
    "        \n",
    "rt_setsize_mean = np.mean(rt_setsize,axis=0)"
   ]
  },
  {
   "cell_type": "code",
   "execution_count": 28,
   "metadata": {},
   "outputs": [],
   "source": [
    "#print('Reaction time per participant and set size')\n",
    "#print(rt_setsize)\n",
    "#print('Reaction time per set size across participants')\n",
    "#print(rt_setsize_mean)"
   ]
  },
  {
   "cell_type": "code",
   "execution_count": 20,
   "metadata": {},
   "outputs": [
    {
     "name": "stdout",
     "output_type": "stream",
     "text": [
      "[0.23196851 0.27703939 0.54881526 0.11776254 0.31455693 0.22192626\n",
      " 0.77502988 0.60653816 0.33765279 0.41191151]\n"
     ]
    },
    {
     "data": {
      "image/png": "[encoded data removed]",
      "text/plain": [
       "<Figure size 432x288 with 1 Axes>"
      ]
     },
     "metadata": {
      "needs_background": "light"
     },
     "output_type": "display_data"
    }
   ],
   "source": [
    "x = np.arange(3)\n",
    "rt_setsize_slope = np.zeros((len(subjects)))\n",
    "plt.figure()\n",
    "\n",
    "for sub in range(len(subjects)):\n",
    "    regression = stats.linregress(x, rt_setsize[sub])\n",
    "    plt.plot([regression[1],regression[1]+regression[0]])\n",
    "    rt_setsize_slope[sub] = regression[0]\n",
    "\n",
    "print(rt_setsize_slope)\n",
    "\n",
    "plt.ylabel('Reaction time')\n",
    "plt.xlabel('Set size')\n",
    "plt.xticks((0,0.5,1),set_size)\n",
    "plt.title('RT as a function of set size')\n",
    "plt.savefig('RT for set size',dpi=300)"
   ]
  },
  {
   "cell_type": "markdown",
   "metadata": {},
   "source": [
    "**Inverse efficiency score**"
   ]
  },
  {
   "cell_type": "code",
   "execution_count": 42,
   "metadata": {},
   "outputs": [],
   "source": [
    "inv_eff = rt_ecc/acc_ecc\n",
    "inv_eff_mean = np.mean(inv_eff,axis=1)\n",
    "#print(inv_eff)\n",
    "#print(inv_eff_mean)"
   ]
  },
  {
   "cell_type": "markdown",
   "metadata": {},
   "source": [
    "## Eyedata"
   ]
  },
  {
   "cell_type": "code",
   "execution_count": 21,
   "metadata": {},
   "outputs": [],
   "source": [
    "def ang2pix(dist_in_deg,h,d,r): \n",
    "    import math \n",
    "    \n",
    "    deg_per_px = math.degrees(math.atan2(0.5*h,d))/(0.5*r)\n",
    "    dist_in_px = dist_in_deg/deg_per_px\n",
    "    return dist_in_px "
   ]
  },
  {
   "cell_type": "code",
   "execution_count": 22,
   "metadata": {},
   "outputs": [],
   "source": [
    "# paths\n",
    "os.chdir(r\"C:\\Users\\Steffi\\Desktop\\PSR\\Data\")\n",
    "base_dir = os.getcwd()\n",
    "output_vs = os.path.join(base_dir,'Data','output_VS')#os.path.join(base_dir,'output_VS')\n",
    "output_crwd = os.path.join(base_dir,'Data','output_crowding')#os.path.join(base_dir,'output_crowding')"
   ]
  },
  {
   "cell_type": "code",
   "execution_count": 23,
   "metadata": {},
   "outputs": [],
   "source": [
    "# params \n",
    "vRes = 1050\n",
    "hRes = 1680\n",
    "ecc = [4,8,12]\n",
    "\n",
    "gabor_size_deg = 2.2/2 #divide by 2 to get the radius\n",
    "screen_distance = 50\n",
    "screen_height = 30\n",
    "\n",
    "gabor_size_pix = ang2pix(gabor_size_deg,screen_height,screen_distance,vRes)#radius in pixels\n",
    "onedegree_pix = ang2pix(1,screen_height,screen_distance,vRes)\n",
    "twodegree_pix = ang2pix(2,screen_height,screen_distance,vRes)#one degree in pixels\n",
    "\n",
    "fixpos = np.array(((hRes/2),(vRes/2)))"
   ]
  },
  {
   "cell_type": "code",
   "execution_count": 24,
   "metadata": {},
   "outputs": [],
   "source": [
    "eye_search_files = []\n",
    "for sub in range(len(subjects)):\n",
    "    #filename = os.path.join(output_vs,'pp-%s'%subjects[sub],'eyedata_visualsearch_pp_%s.asc' %subjects[sub])\n",
    "    filename = 'C:\\\\Users\\\\Steffi\\\\Desktop\\\\PSR\\\\Data\\\\output_VS\\\\pp-%s\\\\eyedata_visualsearch_pp_%s.asc' %(subjects[sub],subjects[sub])\n",
    "    eye_search_files.append(filename)"
   ]
  },
  {
   "cell_type": "code",
   "execution_count": 25,
   "metadata": {},
   "outputs": [],
   "source": [
    "eye_crowd_files = []\n",
    "for sub in range(len(subjects)):\n",
    "    #filename = os.path.join(output_crwd,'pp-%s'%subjects[sub],'eyedata_crowding_pp_%s.asc' %subjects[sub])\n",
    "    filename = 'C:\\\\Users\\\\Steffi\\\\Desktop\\\\PSR\\\\Data\\\\output_crowding\\\\pp-%s\\\\eyedata_crowding_pp_%s.asc' %(subjects[sub],subjects[sub])\n",
    "    eye_crowd_files.append(filename)"
   ]
  },
  {
   "cell_type": "markdown",
   "metadata": {},
   "source": [
    "**Gaze control crowding task**"
   ]
  },
  {
   "cell_type": "code",
   "execution_count": 36,
   "metadata": {},
   "outputs": [],
   "source": [
    "gaze = np.zeros(len(subjects))\n",
    "gaze_percentage1 = np.zeros(len(subjects))\n",
    "gaze_percentage2 = np.zeros(len(subjects))\n",
    "\n",
    "for sub in range(len(subjects)):\n",
    "    eye_data = read_edf(eye_crowd_files[sub], 'start_trial', stop='stop_trial', debug=False)\n",
    "    \n",
    "    deviation = []\n",
    "    over1 = []\n",
    "    over2 = []\n",
    "    \n",
    "    for trial in range(len(eye_data)):\n",
    "        x = eye_data[trial]['x']\n",
    "        y = eye_data[trial]['y']\n",
    "        time = eye_data[trial]['trackertime']\n",
    "        eye_pos = np.array((x,y)).T\n",
    "        displaytime = eye_data[0]['events']['msg'][3][0]\n",
    "        \n",
    "        for pos in range(len(eye_pos)):\n",
    "            \n",
    "            if time[pos] < (displaytime+500):\n",
    "                distance = np.sqrt(np.sum((fixpos-eye_pos[pos])**2))\n",
    "\n",
    "                deviation.append(distance)\n",
    "                if distance > onedegree_pix:\n",
    "                    over1.append(1)\n",
    "                if distance > twodegree_pix:\n",
    "                    over2.append(1)\n",
    "    \n",
    "    gaze_percentage1[sub]= sum(over1)/len(deviation)\n",
    "    gaze_percentage2[sub]= sum(over2)/len(deviation)\n",
    "    gaze[sub]=np.median(deviation)#np.mean(deviation)"
   ]
  },
  {
   "cell_type": "code",
   "execution_count": 37,
   "metadata": {},
   "outputs": [
    {
     "name": "stdout",
     "output_type": "stream",
     "text": [
      "Percent of trials with >1° deviation from fixation\n",
      "[0.         0.         0.         0.         1.         0.59671533\n",
      " 0.         0.27372263 0.         1.        ]\n",
      "Percent of trials with >2° deviation from fixation\n",
      "[0.         0.         0.         0.         1.         0.\n",
      " 0.         0.01824818 0.         0.        ]\n"
     ]
    }
   ],
   "source": [
    "print('Percent of trials with >1° deviation from fixation')\n",
    "print(gaze_percentage1)\n",
    "print('Percent of trials with >2° deviation from fixation')\n",
    "print(gaze_percentage2)"
   ]
  },
  {
   "cell_type": "code",
   "execution_count": 38,
   "metadata": {},
   "outputs": [
    {
     "name": "stdout",
     "output_type": "stream",
     "text": [
      "[ 11.22274277  12.4036285    4.72016949  12.86584626 119.00987352\n",
      "  31.95238566  20.56185485  28.56124997   7.46290827  40.95521945]\n"
     ]
    }
   ],
   "source": [
    "#Median deviation from fixation per participant\n",
    "print(gaze)"
   ]
  },
  {
   "cell_type": "code",
   "execution_count": 39,
   "metadata": {},
   "outputs": [
    {
     "data": {
      "text/plain": [
       "Text(0, 0.5, 'Pixels')"
      ]
     },
     "execution_count": 39,
     "metadata": {},
     "output_type": "execute_result"
    },
    {
     "data": {
      "image/png": "[encoded data removed]",
      "text/plain": [
       "<Figure size 432x288 with 1 Axes>"
      ]
     },
     "metadata": {
      "needs_background": "light"
     },
     "output_type": "display_data"
    }
   ],
   "source": [
    "plt.boxplot(gaze)\n",
    "plt.title('Median deviation from fixation')\n",
    "plt.ylabel('Pixels')"
   ]
  },
  {
   "cell_type": "markdown",
   "metadata": {},
   "source": [
    "**Number of fixations**"
   ]
  },
  {
   "cell_type": "code",
   "execution_count": 26,
   "metadata": {},
   "outputs": [],
   "source": [
    "fix_ecc = np.zeros((len(subjects),len(ecc)))\n",
    "\n",
    "for sub in range(len(subjects)):\n",
    "    eye_data = read_edf(eye_search_files[sub], 'start_trial', stop='stop_trial', debug=False)\n",
    "    behv_data = pd.read_csv(search_files[sub],sep='\\t')\n",
    "    \n",
    "    for e in range(len(ecc)):\n",
    "        num_fix = []\n",
    "    \n",
    "        for trial in range(len(eye_data)):\n",
    "            if behv_data['target_ecc'][trial]==ecc[e]:\n",
    "                num_fix.append(len(eye_data[trial]['events']['Efix']))\n",
    "    \n",
    "        fix_ecc[sub,e] = np.mean(num_fix)\n",
    "\n",
    "mean_fix = np.mean(fix_ecc,axis=1)"
   ]
  },
  {
   "cell_type": "code",
   "execution_count": 41,
   "metadata": {},
   "outputs": [],
   "source": [
    "#Mean number of fixations per subject and eccentricity\n",
    "#print(fix_ecc)\n",
    "#Mean number of fixations per subject across eccentricities\n",
    "#print(mean_fix)"
   ]
  },
  {
   "cell_type": "code",
   "execution_count": 42,
   "metadata": {},
   "outputs": [
    {
     "data": {
      "text/plain": [
       "Text(0.5, 1.0, 'Number of fixations across eccentricities')"
      ]
     },
     "execution_count": 42,
     "metadata": {},
     "output_type": "execute_result"
    },
    {
     "data": {
      "image/png": "[encoded data removed]",
      "text/plain": [
       "<Figure size 1080x360 with 2 Axes>"
      ]
     },
     "metadata": {
      "needs_background": "light"
     },
     "output_type": "display_data"
    }
   ],
   "source": [
    "plt.figure(figsize=(15,5))\n",
    "plt.subplot(1,2,1)\n",
    "plt.hist(fix_ecc)\n",
    "plt.title('Number of fixations per eccentricity')\n",
    "plt.legend(['4°','8°','12°'])\n",
    "plt.subplot(1,2,2)\n",
    "plt.hist(mean_fix)\n",
    "plt.title('Number of fixations across eccentricities')"
   ]
  },
  {
   "cell_type": "markdown",
   "metadata": {},
   "source": [
    "**Number of fixations as a function of eccentricity**"
   ]
  },
  {
   "cell_type": "code",
   "execution_count": 27,
   "metadata": {},
   "outputs": [
    {
     "data": {
      "image/png": "[encoded data removed]",
      "text/plain": [
       "<Figure size 432x288 with 1 Axes>"
      ]
     },
     "metadata": {
      "needs_background": "light"
     },
     "output_type": "display_data"
    }
   ],
   "source": [
    "x = np.arange(3)\n",
    "fix_ecc_slope = np.zeros((len(subjects)))\n",
    "plt.figure()\n",
    "\n",
    "for sub in range(len(subjects)):\n",
    "    regression = stats.linregress(x, fix_ecc[sub])\n",
    "    plt.plot([regression[1],regression[1]+regression[0]])\n",
    "    fix_ecc_slope[sub] = regression[0]\n",
    "\n",
    "#print(fix_ecc_slope)\n",
    "\n",
    "plt.ylabel('Number of fixations')\n",
    "plt.xlabel('Eccentricity')\n",
    "plt.xticks((0,0.5,1),ecc)\n",
    "plt.title('NumFix as a function of eccentricity')\n",
    "plt.savefig('NumFix for ecc',dpi=300)"
   ]
  },
  {
   "cell_type": "markdown",
   "metadata": {},
   "source": [
    "**Number of fixations as a function of set size**"
   ]
  },
  {
   "cell_type": "code",
   "execution_count": 28,
   "metadata": {},
   "outputs": [],
   "source": [
    "fix_setsize = np.zeros((len(subjects),len(set_size)))\n",
    "\n",
    "for sub in range(len(subjects)):\n",
    "    eye_data = read_edf(eye_search_files[sub], 'start_trial', stop='stop_trial', debug=False)\n",
    "    behv_data = pd.read_csv(search_files[sub],sep='\\t')\n",
    "    \n",
    "    for s in range(len(set_size)):\n",
    "        num_fix = []\n",
    "    \n",
    "        for trial in range(len(eye_data)):\n",
    "            if behv_data['set_size'][trial]==set_size[s]:\n",
    "                num_fix.append(len(eye_data[trial]['events']['Efix']))\n",
    "    \n",
    "        fix_setsize[sub,s] = np.mean(num_fix)"
   ]
  },
  {
   "cell_type": "code",
   "execution_count": 29,
   "metadata": {},
   "outputs": [
    {
     "data": {
      "image/png": "[encoded data removed]",
      "text/plain": [
       "<Figure size 432x288 with 1 Axes>"
      ]
     },
     "metadata": {
      "needs_background": "light"
     },
     "output_type": "display_data"
    }
   ],
   "source": [
    "x = np.arange(3)\n",
    "fix_setsize_slope = np.zeros((len(subjects)))\n",
    "plt.figure()\n",
    "\n",
    "for sub in range(len(subjects)):\n",
    "    regression = stats.linregress(x, fix_setsize[sub])\n",
    "    plt.plot([regression[1],regression[1]+regression[0]])\n",
    "    fix_setsize_slope[sub] = regression[0]\n",
    "\n",
    "#print(fix_setsize_slope)\n",
    "\n",
    "plt.ylabel('Number of fixations')\n",
    "plt.xlabel('Set size')\n",
    "plt.xticks((0,0.5,1),set_size)\n",
    "plt.title('NumFix as a function of set size')\n",
    "plt.savefig('NumFix for setsize',dpi=300)"
   ]
  },
  {
   "cell_type": "markdown",
   "metadata": {},
   "source": [
    "**Latency for leaving fixation**"
   ]
  },
  {
   "cell_type": "code",
   "execution_count": 46,
   "metadata": {},
   "outputs": [],
   "source": [
    "#Using the duration of the first fixation - seems quite long though?\n",
    "ecc_lat = np.zeros((len(subjects),len(ecc)))\n",
    "\n",
    "for sub in range(len(subjects)):\n",
    "    eye_data = read_edf(eye_search_files[sub], 'start_trial', stop='stop_trial', debug=False)\n",
    "    behv_data = pd.read_csv(search_files[sub],sep='\\t')\n",
    "    \n",
    "    for e in range(len(ecc)):\n",
    "        lat = []\n",
    "    \n",
    "        for trial in range(len(eye_data)):\n",
    "            if behv_data['target_ecc'][trial]==ecc[e] and not eye_data[trial]['events']['Efix']==[]:\n",
    "                \n",
    "                lat.append(eye_data[trial]['events']['Efix'][0][2])\n",
    "    \n",
    "        ecc_lat[sub,e] = np.mean(lat)\n",
    "\n",
    "mean_lat = np.mean(ecc_lat,axis=1)"
   ]
  },
  {
   "cell_type": "code",
   "execution_count": 47,
   "metadata": {},
   "outputs": [],
   "source": [
    "#Mean latency for leaving fixation per subject and eccentricity\n",
    "#print(ecc_lat)\n",
    "#Mean latency for leaving fixation per subject across eccentricities\n",
    "#print(mean_lat)"
   ]
  },
  {
   "cell_type": "code",
   "execution_count": 48,
   "metadata": {},
   "outputs": [
    {
     "data": {
      "text/plain": [
       "Text(0.5, 1.0, 'Latency for leaving fixation across eccentricities')"
      ]
     },
     "execution_count": 48,
     "metadata": {},
     "output_type": "execute_result"
    },
    {
     "data": {
      "image/png": "[encoded data removed]",
      "text/plain": [
       "<Figure size 1080x360 with 2 Axes>"
      ]
     },
     "metadata": {
      "needs_background": "light"
     },
     "output_type": "display_data"
    }
   ],
   "source": [
    "plt.figure(figsize=(15,5))\n",
    "plt.subplot(1,2,1)\n",
    "plt.hist(ecc_lat)\n",
    "plt.title('Latency for leaving fixation per eccentricity')\n",
    "plt.legend(['4°','8°','12°'])\n",
    "plt.subplot(1,2,2)\n",
    "plt.hist(mean_lat)\n",
    "plt.title('Latency for leaving fixation across eccentricities')"
   ]
  },
  {
   "cell_type": "code",
   "execution_count": 49,
   "metadata": {},
   "outputs": [],
   "source": [
    "## decided to try and compute saccade latency\n",
    "# (the time from the presentation of the target to the commencement of the saccade)\n",
    "# in this case it's from moment where display was shown (eye_data[0]['events']['msg'] [-3][0]\n",
    "# until the start of first saccade\n",
    "\n",
    "ecc_sacclat = np.zeros((len(subjects),len(ecc)))\n",
    "\n",
    "for sub in range(len(subjects)):\n",
    "    eye_data = read_edf(eye_search_files[sub], 'start_trial', stop='stop_trial', debug=False)\n",
    "    behv_data = pd.read_csv(search_files[sub],sep='\\t')\n",
    "    \n",
    "    for e in range(len(ecc)):\n",
    "        lat = []\n",
    "    \n",
    "        for trial in range(len(eye_data)):\n",
    "            if behv_data['target_ecc'][trial]==ecc[e] and not eye_data[trial]['events']['Ssac']==[]:\n",
    "                \n",
    "                lat.append(eye_data[trial]['events']['Ssac'][0]-eye_data[trial]['events']['msg'][-3][0])\n",
    "    \n",
    "        ecc_sacclat[sub,e] = np.median(lat)#np.mean(lat)\n",
    "\n",
    "mean_sacclat = np.median(ecc_sacclat,axis=1)#np.mean(ecc_sacclat,axis=1)\n"
   ]
  },
  {
   "cell_type": "code",
   "execution_count": 50,
   "metadata": {},
   "outputs": [
    {
     "name": "stdout",
     "output_type": "stream",
     "text": [
      "Median saccadic latency per subject and eccentricity\n",
      "[[228.  244.  231. ]\n",
      " [250.5 246.  253. ]\n",
      " [176.  184.  180. ]\n",
      " [216.  224.  218. ]\n",
      " [196.5 202.5 203.5]\n",
      " [177.5 180.  176. ]\n",
      " [260.  254.  250.5]\n",
      " [248.  246.5 248. ]\n",
      " [172.  186.  183. ]\n",
      " [215.  223.  223. ]]\n",
      "Median saccadic latency per subject across eccentricities\n",
      "[231.  250.5 180.  218.  202.5 177.5 254.  248.  183.  223. ]\n"
     ]
    }
   ],
   "source": [
    "print('Median saccadic latency per subject and eccentricity')\n",
    "print(ecc_sacclat)\n",
    "print('Median saccadic latency per subject across eccentricities')\n",
    "print(mean_sacclat)"
   ]
  },
  {
   "cell_type": "code",
   "execution_count": 51,
   "metadata": {},
   "outputs": [
    {
     "data": {
      "text/plain": [
       "Text(0.5, 1.0, 'Latency for start of 1st saccade across eccentricities')"
      ]
     },
     "execution_count": 51,
     "metadata": {},
     "output_type": "execute_result"
    },
    {
     "data": {
      "image/png": "[encoded data removed]",
      "text/plain": [
       "<Figure size 1080x360 with 2 Axes>"
      ]
     },
     "metadata": {
      "needs_background": "light"
     },
     "output_type": "display_data"
    }
   ],
   "source": [
    "plt.figure(figsize=(15,5))\n",
    "plt.subplot(1,2,1)\n",
    "plt.hist(ecc_sacclat)\n",
    "plt.title('Latency for start of 1st saccade per eccentricity')\n",
    "plt.legend(['4°','8°','12°'])\n",
    "plt.subplot(1,2,2)\n",
    "plt.hist(mean_sacclat)\n",
    "plt.title('Latency for start of 1st saccade across eccentricities')"
   ]
  },
  {
   "cell_type": "markdown",
   "metadata": {},
   "source": [
    "**On-/Off-Object Fixation**"
   ]
  },
  {
   "cell_type": "code",
   "execution_count": 47,
   "metadata": {},
   "outputs": [],
   "source": [
    "fix_dist = np.zeros((len(subjects),len(ecc)))\n",
    "percent_on_object = np.zeros((len(subjects),len(ecc)))\n",
    "\n",
    "for sub in range(len(subjects)):\n",
    "    distances = [[],[],[]]\n",
    "    on_gabor = [[],[],[]]\n",
    "    eye_data = read_edf(eye_search_files[sub], 'start_trial', stop='stop_trial', debug=False)\n",
    "    behv_data = pd.read_csv(search_files[sub],sep='\\t')\n",
    "    \n",
    "    for trial in range(len(eye_data)):\n",
    "        #Inês' code to get stimulus positions\n",
    "        target_srt = behv_data['target_position'][trial].replace(']','').replace('[','').split(' ')\n",
    "        target_pos = [float(val) for i,val in enumerate(target_srt) if len(val)>1]\n",
    "        distr_srt = behv_data['distractor_position'][trial].replace(']','').replace('[','').replace(',','').split(' ')\n",
    "        distr_pos = [float(val) for i,val in enumerate(distr_srt) if len(val)>1]\n",
    "        target_pos = [target_pos[0]+hRes/2,target_pos[1]+vRes/2]\n",
    "        alldistr_pos = [distr_pos[i*2:(i+1)*2] for i in range((len(distr_pos))//2)] \n",
    "        alldistr_pos = [[alldistr_pos[i][0]+hRes/2,alldistr_pos[i][1]+vRes/2] for i in range((len(distr_pos))//2)]\n",
    "        alldistr_pos.append(target_pos)\n",
    "        \n",
    "        fixations = eye_data[trial]['events']['Efix']\n",
    "        \n",
    "        for fix in range(len(fixations)):\n",
    "            fixpos = np.array([fixations[fix][3],fixations[fix][4]])\n",
    "            \n",
    "            min_dis = 1000 #needs to be here\n",
    "            for stim in range(len(alldistr_pos)):\n",
    "                stimpos = np.array([alldistr_pos[stim][0],alldistr_pos[stim][1]])\n",
    "                dis = np.sqrt(np.sum((fixpos-stimpos)**2))\n",
    "                \n",
    "                if dis < min_dis:\n",
    "                    min_dis = dis\n",
    "            \n",
    "            if behv_data['target_ecc'][trial]==ecc[0]:\n",
    "                distances[0].append(min_dis)\n",
    "                if min_dis <= gabor_size_pix:\n",
    "                    on_gabor[0].append(1)\n",
    "            elif behv_data['target_ecc'][trial]==ecc[1]:\n",
    "                distances[1].append(min_dis)\n",
    "                if min_dis <= gabor_size_pix:\n",
    "                    on_gabor[1].append(1)\n",
    "            else:\n",
    "                distances[2].append(min_dis)\n",
    "                if min_dis <= gabor_size_pix:\n",
    "                    on_gabor[2].append(1)\n",
    "\n",
    "    fix_dist[sub,0] = np.mean(distances[0])\n",
    "    fix_dist[sub,1] = np.mean(distances[1])\n",
    "    fix_dist[sub,2] = np.mean(distances[2])\n",
    "    \n",
    "    percent_on_object[sub,0]=len(on_gabor[0])/len(distances[0])*100\n",
    "    percent_on_object[sub,1]=len(on_gabor[1])/len(distances[1])*100\n",
    "    percent_on_object[sub,2]=len(on_gabor[2])/len(distances[2])*100\n",
    "\n",
    "mean_fix_dist = np.mean(fix_dist,axis=1)\n",
    "mean_on_object = np.mean(percent_on_object, axis=1)"
   ]
  },
  {
   "cell_type": "code",
   "execution_count": 49,
   "metadata": {},
   "outputs": [
    {
     "name": "stdout",
     "output_type": "stream",
     "text": [
      "[[101.87922703 126.02912998 121.21319621]\n",
      " [104.01086909 116.56686617 122.34028392]\n",
      " [ 96.55560649 122.7626714  121.34379189]\n",
      " [105.47123441 122.7318739  129.43611422]\n",
      " [ 95.56123673 118.9950688  124.88094105]\n",
      " [ 99.71855417 122.06220712 132.82541239]\n",
      " [ 99.76098642 117.85180121 124.35033583]\n",
      " [101.47281756 118.49074675 129.54011469]\n",
      " [ 98.78541498 119.29453188 118.39433793]\n",
      " [104.54422944 118.97438752 123.7898984 ]]\n",
      "[116.37385107 114.30600639 113.55402326 119.21307418 113.14574886\n",
      " 118.20205789 113.98770782 116.50122633 112.15809493 115.76950512]\n"
     ]
    }
   ],
   "source": [
    "#Mean distance to next object at fixation per subject and eccentricity\n",
    "print(fix_dist)\n",
    "#Mean distance to next object at fixation per subject across eccentricities\n",
    "print(mean_fix_dist)"
   ]
  },
  {
   "cell_type": "code",
   "execution_count": 50,
   "metadata": {},
   "outputs": [
    {
     "name": "stdout",
     "output_type": "stream",
     "text": [
      "[[13.33333333 12.30769231 14.67430208]\n",
      " [10.08130081  9.09090909 10.00769823]\n",
      " [17.2922252  12.63782867 13.36870027]\n",
      " [10.78767123 12.35813367  9.47630923]\n",
      " [15.01416431 11.84210526 13.38582677]\n",
      " [14.1509434  11.22770199 11.70343137]\n",
      " [10.89449541  7.2         7.20541401]\n",
      " [16.44498186 12.40105541 12.050257  ]\n",
      " [14.7566719  15.24008351 13.41235184]\n",
      " [17.24500526 15.58156547 13.53276353]]\n",
      "[13.43844257  9.72663604 14.43291804 10.87403804 13.41403211 12.36069225\n",
      "  8.43330314 13.63209809 14.46970242 15.45311142]\n"
     ]
    }
   ],
   "source": [
    "#Percentage of on-object fixations per subject and eccentricity\n",
    "print(percent_on_object)\n",
    "#Percentage of on-object fixations per subject across eccentricities\n",
    "print(mean_on_object)"
   ]
  },
  {
   "cell_type": "code",
   "execution_count": 51,
   "metadata": {},
   "outputs": [],
   "source": [
    "#without target fixation\n",
    "fix_dist = np.zeros((len(subjects),len(ecc)))\n",
    "percent_on_object = np.zeros((len(subjects),len(ecc)))\n",
    "\n",
    "for sub in range(len(subjects)):\n",
    "    distances = [[],[],[]]\n",
    "    on_gabor = [[],[],[]]\n",
    "    eye_data = read_edf(eye_search_files[sub], 'start_trial', stop='stop_trial', debug=False)\n",
    "    behv_data = pd.read_csv(search_files[sub],sep='\\t')\n",
    "    \n",
    "    for trial in range(len(eye_data)):\n",
    "        #Inês' code to get stimulus positions\n",
    "        target_srt = behv_data['target_position'][trial].replace(']','').replace('[','').split(' ')\n",
    "        target_pos = [float(val) for i,val in enumerate(target_srt) if len(val)>1]\n",
    "        distr_srt = behv_data['distractor_position'][trial].replace(']','').replace('[','').replace(',','').split(' ')\n",
    "        distr_pos = [float(val) for i,val in enumerate(distr_srt) if len(val)>1]\n",
    "        target_pos = [target_pos[0]+hRes/2,target_pos[1]+vRes/2]\n",
    "        alldistr_pos = [distr_pos[i*2:(i+1)*2] for i in range((len(distr_pos))//2)] \n",
    "        alldistr_pos = [[alldistr_pos[i][0]+hRes/2,alldistr_pos[i][1]+vRes/2] for i in range((len(distr_pos))//2)]\n",
    "        #alldistr_pos.append(target_pos)\n",
    "        \n",
    "        fixations = eye_data[trial]['events']['Efix']\n",
    "        \n",
    "        for fix in range(len(fixations)):\n",
    "            fixpos = np.array([fixations[fix][3],fixations[fix][4]])\n",
    "            target_dis = np.sqrt(np.sum((fixpos-target_pos)**2))\n",
    "            \n",
    "            min_dis = 1000 #needs to be here\n",
    "            \n",
    "            for stim in range(len(alldistr_pos)):\n",
    "                stimpos = np.array([alldistr_pos[stim][0],alldistr_pos[stim][1]])\n",
    "                dis = np.sqrt(np.sum((fixpos-stimpos)**2))\n",
    "                \n",
    "                if dis < min_dis:\n",
    "                    min_dis = dis\n",
    "            \n",
    "            if min_dis < target_dis or (min_dis > target_dis and target_dis > gabor_size_pix):#appending it only if non-target fixation\n",
    "                if behv_data['target_ecc'][trial]==ecc[0]:\n",
    "                    distances[0].append(min_dis)\n",
    "                    if min_dis <= gabor_size_pix:\n",
    "                        on_gabor[0].append(1)\n",
    "                elif behv_data['target_ecc'][trial]==ecc[1]:\n",
    "                    distances[1].append(min_dis)\n",
    "                    if min_dis <= gabor_size_pix:\n",
    "                        on_gabor[1].append(1)\n",
    "                else:\n",
    "                    distances[2].append(min_dis)\n",
    "                    if min_dis <= gabor_size_pix:\n",
    "                        on_gabor[2].append(1)\n",
    "\n",
    "    fix_dist[sub,0] = np.mean(distances[0])\n",
    "    fix_dist[sub,1] = np.mean(distances[1])\n",
    "    fix_dist[sub,2] = np.mean(distances[2])\n",
    "    \n",
    "    percent_on_object[sub,0]=len(on_gabor[0])/len(distances[0])*100\n",
    "    percent_on_object[sub,1]=len(on_gabor[1])/len(distances[1])*100\n",
    "    percent_on_object[sub,2]=len(on_gabor[2])/len(distances[2])*100\n",
    "\n",
    "mean_fix_dist = np.mean(fix_dist,axis=1)\n",
    "mean_on_object = np.mean(percent_on_object, axis=1)"
   ]
  },
  {
   "cell_type": "code",
   "execution_count": 52,
   "metadata": {},
   "outputs": [
    {
     "name": "stdout",
     "output_type": "stream",
     "text": [
      "[[140.20125388 141.54150064 125.68056033]\n",
      " [139.4678038  128.87844903 127.84908874]\n",
      " [126.33837312 133.55051637 128.93420417]\n",
      " [145.65759173 135.25001918 136.84421341]\n",
      " [131.05381808 132.77409652 131.12360735]\n",
      " [133.36003539 134.40768303 139.95489764]\n",
      " [127.2002496  127.94511703 131.26073782]\n",
      " [132.31610796 128.53625348 135.25218207]\n",
      " [139.63242643 131.321661   125.15565472]\n",
      " [135.47516525 133.0320682  130.06792909]]\n",
      "[135.80777162 132.06511386 129.60769789 139.25060811 131.65050731\n",
      " 135.90753869 128.80203482 132.03484784 132.03658071 132.85838751]\n"
     ]
    }
   ],
   "source": [
    "#Mean distance to next object at fixation per subject and eccentricity\n",
    "print(fix_dist)\n",
    "#Mean distance to next object at fixation per subject across eccentricities\n",
    "print(mean_fix_dist)"
   ]
  },
  {
   "cell_type": "code",
   "execution_count": 53,
   "metadata": {},
   "outputs": [
    {
     "name": "stdout",
     "output_type": "stream",
     "text": [
      "[[ 9.30232558 10.         13.81055676]\n",
      " [ 8.29187396  8.28025478  9.23913043]\n",
      " [13.34269663 11.81506849 12.39270386]\n",
      " [ 5.61594203  9.03141361  8.71751886]\n",
      " [11.37370753 10.66666667 12.6984127 ]\n",
      " [10.40787623 10.09564293 11.10425663]\n",
      " [ 9.65116279  6.95187166  6.90894569]\n",
      " [12.19822109 10.91234347 11.13675707]\n",
      " [12.41935484 13.61702128 12.70440252]\n",
      " [12.94247788 13.36336336 12.45192308]]\n",
      "[11.03762745  8.60375306 12.516823    7.7882915  11.57959563 10.53592527\n",
      "  7.83732671 11.41577388 12.91359288 12.91925477]\n"
     ]
    }
   ],
   "source": [
    "#Percentage of on-object fixations per subject and eccentricity\n",
    "print(percent_on_object)\n",
    "#Percentage of on-object fixations per subject across eccentricities\n",
    "print(mean_on_object)"
   ]
  },
  {
   "cell_type": "code",
   "execution_count": 55,
   "metadata": {},
   "outputs": [
    {
     "data": {
      "text/plain": [
       "Text(0.5, 1.0, 'Percentage of on-object fixations across eccentricities')"
      ]
     },
     "execution_count": 55,
     "metadata": {},
     "output_type": "execute_result"
    },
    {
     "data": {
      "image/png": "[encoded data removed]",
      "text/plain": [
       "<Figure size 1080x360 with 2 Axes>"
      ]
     },
     "metadata": {
      "needs_background": "light"
     },
     "output_type": "display_data"
    }
   ],
   "source": [
    "plt.figure(figsize=(15,5))\n",
    "plt.subplot(1,2,1)\n",
    "plt.hist(percent_on_object)\n",
    "plt.title('Percentage of on-object fixations per eccentricity')\n",
    "plt.legend(['4°','8°','12°'])\n",
    "plt.subplot(1,2,2)\n",
    "plt.hist(mean_on_object)\n",
    "plt.title('Percentage of on-object fixations across eccentricities')"
   ]
  },
  {
   "cell_type": "markdown",
   "metadata": {},
   "source": [
    "**Time between last fixation and response**"
   ]
  },
  {
   "cell_type": "code",
   "execution_count": 56,
   "metadata": {},
   "outputs": [],
   "source": [
    "reaction_latency = np.zeros((len(subjects),len(ecc)))\n",
    "\n",
    "for sub in range(len(subjects)):\n",
    "    eye_data = read_edf(eye_search_files[sub], 'start_trial', stop='stop_trial', debug=False)\n",
    "    behv_data = pd.read_csv(search_files[sub],sep='\\t')\n",
    "    \n",
    "    for e in range(len(ecc)):\n",
    "        timediff = []\n",
    "    \n",
    "        for trial in range(len(eye_data)):\n",
    "            if behv_data['target_ecc'][trial]==ecc[e] and not eye_data[trial]['events']['Efix']==[]:\n",
    "                #time between eyelink recorded response and end of fixation\n",
    "                time = eye_data[trial]['events']['msg'][-2][0]-eye_data[trial]['events']['Efix'][-1][1]\n",
    "                timediff.append(time)\n",
    "    \n",
    "        reaction_latency[sub][e]=np.mean(timediff) "
   ]
  },
  {
   "cell_type": "code",
   "execution_count": 57,
   "metadata": {},
   "outputs": [
    {
     "name": "stdout",
     "output_type": "stream",
     "text": [
      "Time between last fixation and response per subject and eccentricity\n",
      "[[264.26666667 235.25316456 247.57740586]\n",
      " [335.69166667 377.425      392.49166667]\n",
      " [396.825      366.7375     369.17083333]\n",
      " [ 94.53617021  92.97424893  86.05485232]\n",
      " [300.09166667 278.57563025 274.94166667]\n",
      " [222.72268908 238.64705882 243.05042017]\n",
      " [296.38888889 308.09583333 303.29583333]\n",
      " [293.15899582 246.35833333 231.3125    ]\n",
      " [235.52916667 248.44957983 261.78661088]\n",
      " [199.         219.87447699 185.05857741]]\n"
     ]
    }
   ],
   "source": [
    "print('Time between last fixation and response per subject and eccentricity')\n",
    "print(reaction_latency)"
   ]
  },
  {
   "cell_type": "markdown",
   "metadata": {},
   "source": [
    "## Correlation"
   ]
  },
  {
   "cell_type": "markdown",
   "metadata": {},
   "source": [
    "**RT**"
   ]
  },
  {
   "cell_type": "code",
   "execution_count": 58,
   "metadata": {},
   "outputs": [
    {
     "data": {
      "text/plain": [
       "SpearmanrResult(correlation=0.4024465059906087, pvalue=0.24891109857761312)"
      ]
     },
     "execution_count": 58,
     "metadata": {},
     "output_type": "execute_result"
    }
   ],
   "source": [
    "#Correlation of critical distance mean and RT\n",
    "spearmanr(crit_dis_mean,rt_mean)"
   ]
  },
  {
   "cell_type": "code",
   "execution_count": 59,
   "metadata": {},
   "outputs": [
    {
     "data": {
      "text/plain": [
       "SpearmanrResult(correlation=0.40729671426564323, pvalue=0.24271027029946393)"
      ]
     },
     "execution_count": 59,
     "metadata": {},
     "output_type": "execute_result"
    }
   ],
   "source": [
    "#Correlation of critical distance slope and RT\n",
    "spearmanr(crit_dis_slope,rt_mean)"
   ]
  },
  {
   "cell_type": "code",
   "execution_count": 60,
   "metadata": {},
   "outputs": [
    {
     "data": {
      "image/png": "[encoded data removed]",
      "text/plain": [
       "<Figure size 720x288 with 2 Axes>"
      ]
     },
     "metadata": {
      "needs_background": "light"
     },
     "output_type": "display_data"
    }
   ],
   "source": [
    "plt.figure(figsize=(10,4))\n",
    "\n",
    "plt.subplot(1,2,1)\n",
    "plt.plot(crit_dis_mean,rt_mean, 'bo')\n",
    "plt.xlabel('Critical distance mean')\n",
    "plt.ylabel('RT')\n",
    "\n",
    "plt.subplot(1,2,2)\n",
    "plt.plot(crit_dis_slope,rt_mean, 'bo')\n",
    "plt.xlabel('Critical distance slope')\n",
    "plt.ylabel('RT')\n",
    "\n",
    "plt.tight_layout()"
   ]
  },
  {
   "cell_type": "markdown",
   "metadata": {},
   "source": [
    "**RT / Eccentricity**"
   ]
  },
  {
   "cell_type": "code",
   "execution_count": 61,
   "metadata": {},
   "outputs": [
    {
     "data": {
      "text/plain": [
       "SpearmanrResult(correlation=0.3475674369918894, pvalue=0.325077533765635)"
      ]
     },
     "execution_count": 61,
     "metadata": {},
     "output_type": "execute_result"
    }
   ],
   "source": [
    "#Correlation of critical distance mean and RT/Ecc\n",
    "spearmanr(crit_dis_mean,rt_ecc_slope)"
   ]
  },
  {
   "cell_type": "code",
   "execution_count": 62,
   "metadata": {},
   "outputs": [
    {
     "data": {
      "text/plain": [
       "SpearmanrResult(correlation=0.44377104688644714, pvalue=0.1988934422361148)"
      ]
     },
     "execution_count": 62,
     "metadata": {},
     "output_type": "execute_result"
    }
   ],
   "source": [
    "#Correlation of critical distance slope and RT/Ecc\n",
    "spearmanr(crit_dis_slope,rt_ecc_slope)"
   ]
  },
  {
   "cell_type": "code",
   "execution_count": 39,
   "metadata": {},
   "outputs": [
    {
     "data": {
      "image/png": "[encoded data removed]",
      "text/plain": [
       "<Figure size 720x288 with 2 Axes>"
      ]
     },
     "metadata": {
      "needs_background": "light"
     },
     "output_type": "display_data"
    }
   ],
   "source": [
    "plt.figure(figsize=(10,4))\n",
    "\n",
    "plt.subplot(1,2,1)\n",
    "plt.plot(crit_dis_mean,rt_ecc_slope, 'bo')\n",
    "plt.xlabel('Critical distance mean')\n",
    "plt.ylabel('RT/Ecc slope')\n",
    "\n",
    "plt.subplot(1,2,2)\n",
    "plt.plot(crit_dis_slope,rt_ecc_slope, 'bo')\n",
    "plt.xlabel('Critical distance slope')\n",
    "plt.ylabel('RT/Ecc slope')\n",
    "plt.savefig('RTEcc corr', dpi=300)\n",
    "plt.tight_layout()\n"
   ]
  },
  {
   "cell_type": "markdown",
   "metadata": {},
   "source": [
    "**RT / Set size**"
   ]
  },
  {
   "cell_type": "code",
   "execution_count": 64,
   "metadata": {},
   "outputs": [
    {
     "data": {
      "text/plain": [
       "SpearmanrResult(correlation=0.37805580865784455, pvalue=0.2814111157974276)"
      ]
     },
     "execution_count": 64,
     "metadata": {},
     "output_type": "execute_result"
    }
   ],
   "source": [
    "#Correlation of critical distance mean and RT/Setsize\n",
    "spearmanr(crit_dis_mean,rt_setsize_slope)"
   ]
  },
  {
   "cell_type": "code",
   "execution_count": 65,
   "metadata": {},
   "outputs": [
    {
     "data": {
      "text/plain": [
       "SpearmanrResult(correlation=0.2613993837824278, pvalue=0.465684706386463)"
      ]
     },
     "execution_count": 65,
     "metadata": {},
     "output_type": "execute_result"
    }
   ],
   "source": [
    "#Correlation of critical distance slope and RT/Setsize\n",
    "spearmanr(crit_dis_slope,rt_setsize_slope)"
   ]
  },
  {
   "cell_type": "code",
   "execution_count": 40,
   "metadata": {},
   "outputs": [
    {
     "data": {
      "image/png": "[encoded data removed]",
      "text/plain": [
       "<Figure size 720x288 with 2 Axes>"
      ]
     },
     "metadata": {
      "needs_background": "light"
     },
     "output_type": "display_data"
    }
   ],
   "source": [
    "plt.figure(figsize=(10,4))\n",
    "\n",
    "plt.subplot(1,2,1)\n",
    "plt.plot(crit_dis_mean,rt_setsize_slope, 'bo')\n",
    "plt.xlabel('Critical distance mean')\n",
    "plt.ylabel('RT/Setsize slope')\n",
    "\n",
    "plt.subplot(1,2,2)\n",
    "plt.plot(crit_dis_slope,rt_setsize_slope, 'bo')\n",
    "plt.xlabel('Critical distance slope')\n",
    "plt.ylabel('RT/Setsize slope')\n",
    "plt.savefig('RTSetsize corr', dpi=300)\n",
    "plt.tight_layout()"
   ]
  },
  {
   "cell_type": "markdown",
   "metadata": {},
   "source": [
    "**Inverse Efficiency Score**"
   ]
  },
  {
   "cell_type": "code",
   "execution_count": 67,
   "metadata": {},
   "outputs": [
    {
     "data": {
      "text/plain": [
       "SpearmanrResult(correlation=0.5122046439880474, pvalue=0.13012434210427876)"
      ]
     },
     "execution_count": 67,
     "metadata": {},
     "output_type": "execute_result"
    }
   ],
   "source": [
    "#Correlation of critical distance mean and RT/Setsize\n",
    "spearmanr(crit_dis_mean,inv_eff_mean)"
   ]
  },
  {
   "cell_type": "code",
   "execution_count": 68,
   "metadata": {},
   "outputs": [
    {
     "data": {
      "text/plain": [
       "SpearmanrResult(correlation=0.37082238164483944, pvalue=0.2914682712989584)"
      ]
     },
     "execution_count": 68,
     "metadata": {},
     "output_type": "execute_result"
    }
   ],
   "source": [
    "#Correlation of critical distance slope and RT/Setsize\n",
    "spearmanr(crit_dis_slope,inv_eff_mean)"
   ]
  },
  {
   "cell_type": "code",
   "execution_count": 43,
   "metadata": {},
   "outputs": [
    {
     "data": {
      "image/png": "[encoded data removed]",
      "text/plain": [
       "<Figure size 720x288 with 2 Axes>"
      ]
     },
     "metadata": {
      "needs_background": "light"
     },
     "output_type": "display_data"
    }
   ],
   "source": [
    "plt.figure(figsize=(10,4))\n",
    "\n",
    "plt.subplot(1,2,1)\n",
    "plt.plot(crit_dis_mean,inv_eff_mean, 'bo')\n",
    "plt.xlabel('Critical distance mean')\n",
    "plt.ylabel('Inverse efficicency score')\n",
    "\n",
    "plt.subplot(1,2,2)\n",
    "plt.plot(crit_dis_slope,inv_eff_mean, 'bo')\n",
    "plt.xlabel('Critical distance slope')\n",
    "plt.ylabel('Inverse efficicency score')\n",
    "plt.savefig('InvEff corr', dpi=300)\n",
    "plt.tight_layout()"
   ]
  },
  {
   "cell_type": "markdown",
   "metadata": {},
   "source": [
    "**NumFix**"
   ]
  },
  {
   "cell_type": "code",
   "execution_count": 70,
   "metadata": {},
   "outputs": [
    {
     "data": {
      "text/plain": [
       "SpearmanrResult(correlation=0.3475674369918894, pvalue=0.325077533765635)"
      ]
     },
     "execution_count": 70,
     "metadata": {},
     "output_type": "execute_result"
    }
   ],
   "source": [
    "#'Correlation of critical distance mean and mean number of fixations\n",
    "spearmanr(crit_dis_mean,mean_fix)"
   ]
  },
  {
   "cell_type": "code",
   "execution_count": 71,
   "metadata": {},
   "outputs": [
    {
     "data": {
      "text/plain": [
       "SpearmanrResult(correlation=0.49848254581765294, pvalue=0.14251791767625296)"
      ]
     },
     "execution_count": 71,
     "metadata": {},
     "output_type": "execute_result"
    }
   ],
   "source": [
    "#'Correlation of critical distance slope and mean number of fixations\n",
    "spearmanr(crit_dis_slope,mean_fix)"
   ]
  },
  {
   "cell_type": "code",
   "execution_count": 72,
   "metadata": {},
   "outputs": [
    {
     "data": {
      "image/png": "[encoded data removed]",
      "text/plain": [
       "<Figure size 720x288 with 2 Axes>"
      ]
     },
     "metadata": {
      "needs_background": "light"
     },
     "output_type": "display_data"
    }
   ],
   "source": [
    "plt.figure(figsize=(10,4))\n",
    "\n",
    "plt.subplot(1,2,1)\n",
    "plt.plot(crit_dis_mean,mean_fix, 'bo')\n",
    "plt.xlabel('Critical distance mean')\n",
    "plt.ylabel('NumFix')\n",
    "\n",
    "plt.subplot(1,2,2)\n",
    "plt.plot(crit_dis_slope,mean_fix, 'bo')\n",
    "plt.xlabel('Critical distance slope')\n",
    "plt.ylabel('NumFix')\n",
    "\n",
    "plt.tight_layout()"
   ]
  },
  {
   "cell_type": "markdown",
   "metadata": {},
   "source": [
    "**NumFix / Eccentricity**"
   ]
  },
  {
   "cell_type": "code",
   "execution_count": 73,
   "metadata": {},
   "outputs": [
    {
     "data": {
      "text/plain": [
       "SpearmanrResult(correlation=0.31707906532593416, pvalue=0.3720185798425297)"
      ]
     },
     "execution_count": 73,
     "metadata": {},
     "output_type": "execute_result"
    }
   ],
   "source": [
    "#Correlation of critical distance mean and NumFix/Ecc\n",
    "spearmanr(crit_dis_mean,fix_ecc_slope)"
   ]
  },
  {
   "cell_type": "code",
   "execution_count": 74,
   "metadata": {},
   "outputs": [
    {
     "data": {
      "text/plain": [
       "SpearmanrResult(correlation=0.4255338805760452, pvalue=0.22017919518735943)"
      ]
     },
     "execution_count": 74,
     "metadata": {},
     "output_type": "execute_result"
    }
   ],
   "source": [
    "#Correlation of critical distance slope and NumFix/Ecc\n",
    "spearmanr(crit_dis_slope,fix_ecc_slope)"
   ]
  },
  {
   "cell_type": "code",
   "execution_count": 44,
   "metadata": {},
   "outputs": [
    {
     "data": {
      "image/png": "[encoded data removed]",
      "text/plain": [
       "<Figure size 720x288 with 2 Axes>"
      ]
     },
     "metadata": {
      "needs_background": "light"
     },
     "output_type": "display_data"
    }
   ],
   "source": [
    "plt.figure(figsize=(10,4))\n",
    "\n",
    "plt.subplot(1,2,1)\n",
    "plt.plot(crit_dis_mean,fix_ecc_slope, 'bo')\n",
    "plt.xlabel('Critical distance mean')\n",
    "plt.ylabel('NumFix/Ecc')\n",
    "\n",
    "plt.subplot(1,2,2)\n",
    "plt.plot(crit_dis_slope,fix_ecc_slope, 'bo')\n",
    "plt.xlabel('Critical distance slope')\n",
    "plt.ylabel('NumFix/Ecc')\n",
    "plt.savefig('FixEcc corr', dpi=300)\n",
    "plt.tight_layout()"
   ]
  },
  {
   "cell_type": "markdown",
   "metadata": {},
   "source": [
    "**NumFix / Set size**"
   ]
  },
  {
   "cell_type": "code",
   "execution_count": 76,
   "metadata": {},
   "outputs": [
    {
     "data": {
      "text/plain": [
       "SpearmanrResult(correlation=0.4695209236557102, pvalue=0.17096550855966192)"
      ]
     },
     "execution_count": 76,
     "metadata": {},
     "output_type": "execute_result"
    }
   ],
   "source": [
    "#Correlation of critical distance mean and NumFix/Setsize\n",
    "spearmanr(crit_dis_mean,fix_setsize_slope)"
   ]
  },
  {
   "cell_type": "code",
   "execution_count": 77,
   "metadata": {},
   "outputs": [
    {
     "data": {
      "text/plain": [
       "SpearmanrResult(correlation=0.4194548251392446, pvalue=0.2275515102242153)"
      ]
     },
     "execution_count": 77,
     "metadata": {},
     "output_type": "execute_result"
    }
   ],
   "source": [
    "#Correlation of critical distance slope and NumFix/Setsize\n",
    "spearmanr(crit_dis_slope,fix_setsize_slope)"
   ]
  },
  {
   "cell_type": "code",
   "execution_count": 45,
   "metadata": {},
   "outputs": [
    {
     "data": {
      "image/png": "[encoded data removed]",
      "text/plain": [
       "<Figure size 720x288 with 2 Axes>"
      ]
     },
     "metadata": {
      "needs_background": "light"
     },
     "output_type": "display_data"
    }
   ],
   "source": [
    "plt.figure(figsize=(10,4))\n",
    "\n",
    "plt.subplot(1,2,1)\n",
    "plt.plot(crit_dis_mean,fix_setsize_slope, 'bo')\n",
    "plt.xlabel('Critical distance mean')\n",
    "plt.ylabel('NumFix/Setsize')\n",
    "\n",
    "plt.subplot(1,2,2)\n",
    "plt.plot(crit_dis_slope,fix_setsize_slope, 'bo')\n",
    "plt.xlabel('Critical distance slope')\n",
    "plt.ylabel('NumFix/Setsize')\n",
    "plt.savefig('Fixsetsize corr', dpi=300)\n",
    "plt.tight_layout()"
   ]
  },
  {
   "cell_type": "markdown",
   "metadata": {},
   "source": [
    "**On-Object Fixation**"
   ]
  },
  {
   "cell_type": "code",
   "execution_count": 54,
   "metadata": {},
   "outputs": [
    {
     "data": {
      "text/plain": [
       "SpearmanrResult(correlation=0.018293022999573125, pvalue=0.9599974002377397)"
      ]
     },
     "execution_count": 54,
     "metadata": {},
     "output_type": "execute_result"
    }
   ],
   "source": [
    "#Correlation of critical distance mean and on-object fixation\n",
    "spearmanr(crit_dis_mean,mean_on_object)"
   ]
  },
  {
   "cell_type": "code",
   "execution_count": 55,
   "metadata": {},
   "outputs": [
    {
     "data": {
      "text/plain": [
       "SpearmanrResult(correlation=0.024316221747202587, pvalue=0.9468397049085097)"
      ]
     },
     "execution_count": 55,
     "metadata": {},
     "output_type": "execute_result"
    }
   ],
   "source": [
    "#Correlation of critical distance slope and on-object fixation\n",
    "spearmanr(crit_dis_slope,mean_on_object)"
   ]
  },
  {
   "cell_type": "code",
   "execution_count": 56,
   "metadata": {},
   "outputs": [
    {
     "data": {
      "image/png": "[encoded data removed]",
      "text/plain": [
       "<Figure size 720x288 with 2 Axes>"
      ]
     },
     "metadata": {
      "needs_background": "light"
     },
     "output_type": "display_data"
    }
   ],
   "source": [
    "plt.figure(figsize=(10,4))\n",
    "\n",
    "plt.subplot(1,2,1)\n",
    "plt.plot(crit_dis_mean,mean_on_object, 'bo')\n",
    "plt.xlabel('Critical distance mean')\n",
    "plt.ylabel('On-Object Fixation %')\n",
    "\n",
    "plt.subplot(1,2,2)\n",
    "plt.plot(crit_dis_slope,mean_on_object, 'bo')\n",
    "plt.xlabel('Critical distance slope')\n",
    "plt.ylabel('On-Object Fixation %')\n",
    "plt.savefig('OnObject corr', dpi=300)\n",
    "plt.tight_layout()"
   ]
  }
 ],
 "metadata": {
  "kernelspec": {
   "display_name": "Python 3",
   "language": "python",
   "name": "python3"
  },
  "language_info": {
   "codemirror_mode": {
    "name": "ipython",
    "version": 3
   },
   "file_extension": ".py",
   "mimetype": "text/x-python",
   "name": "python",
   "nbconvert_exporter": "python",
   "pygments_lexer": "ipython3",
   "version": "3.7.3"
  }
 },
 "nbformat": 4,
 "nbformat_minor": 2
}
